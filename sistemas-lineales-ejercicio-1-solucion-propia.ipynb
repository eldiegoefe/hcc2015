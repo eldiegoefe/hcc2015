{
 "cells": [
  {
   "cell_type": "markdown",
   "metadata": {},
   "source": [
    "# Sistemas lineales\n",
    "\n",
    "## Ejercicio 1: Descomposición de Doolittle\n",
    "\n",
    "Resolver las ecuaciones Ax = b utilizando la descomposición de Doolittle para A. Resolver el sistema utilizando la descomposición LU obtenida para diversos b."
   ]
  },
  {
   "cell_type": "code",
   "execution_count": 1,
   "metadata": {
    "collapsed": false
   },
   "outputs": [],
   "source": [
    "import numpy as np\n",
    "\n",
    "A = np.array([\n",
    "    [1, 2, 4, 3, 5],\n",
    "    [3, 5, 3, 1, 2],\n",
    "    [1, 4, 4, 2, 1],\n",
    "    [4, 1, 2, 5, 3], \n",
    "    [5, 2, 1, 4, 1]])"
   ]
  },
  {
   "cell_type": "markdown",
   "metadata": {},
   "source": [
    "# Armado de las matrices L y U (aún vacías)"
   ]
  },
  {
   "cell_type": "code",
   "execution_count": 2,
   "metadata": {
    "collapsed": false
   },
   "outputs": [
    {
     "name": "stdout",
     "output_type": "stream",
     "text": [
      "Matriz L.\n",
      "Triangular inferior, y la diagonal rellena con unos (1):\n",
      "[[ 1.  0.  0.  0.  0.]\n",
      " [ 0.  1.  0.  0.  0.]\n",
      " [ 0.  0.  1.  0.  0.]\n",
      " [ 0.  0.  0.  1.  0.]\n",
      " [ 0.  0.  0.  0.  1.]]\n",
      "\n",
      "Matriz U.\n",
      "Triangular superior:\n",
      "[[ 0.  0.  0.  0.  0.]\n",
      " [ 0.  0.  0.  0.  0.]\n",
      " [ 0.  0.  0.  0.  0.]\n",
      " [ 0.  0.  0.  0.  0.]\n",
      " [ 0.  0.  0.  0.  0.]]\n"
     ]
    }
   ],
   "source": [
    "dim = np.shape(A)[0]\n",
    "\n",
    "L = np.identity(dim)\n",
    "U = np.zeros((dim,dim))\n",
    "\n",
    "print(\"Matriz L.\")\n",
    "print(\"Triangular inferior, y la diagonal rellena con unos (1):\")\n",
    "print(L)\n",
    "print()\n",
    "print(\"Matriz U.\")\n",
    "print(\"Triangular superior:\")\n",
    "print(U)"
   ]
  },
  {
   "cell_type": "markdown",
   "metadata": {},
   "source": [
    "# Funciones para hallar los elementos $L_{ij}$ y $U_{ij}$"
   ]
  },
  {
   "cell_type": "code",
   "execution_count": 3,
   "metadata": {
    "collapsed": false
   },
   "outputs": [],
   "source": [
    "def Lij(A, L, U, i, j):\n",
    "    indiceSum = np.arange(0, j, 1)\n",
    "    ac = 0\n",
    "    for k in indiceSum:\n",
    "        ac = ac + L[i,k] * U[k,j]\n",
    "    return (A[i,j] - ac) / U[j,j]"
   ]
  },
  {
   "cell_type": "code",
   "execution_count": 4,
   "metadata": {
    "collapsed": false
   },
   "outputs": [],
   "source": [
    "def Uij(A, L, U, i, j):\n",
    "    indiceSum = np.arange(0, i, 1)\n",
    "    ac = 0\n",
    "    for k in indiceSum:\n",
    "        ac = ac + L[i,k] * U[k,j]\n",
    "    return A[i,j] - ac"
   ]
  },
  {
   "cell_type": "markdown",
   "metadata": {},
   "source": [
    "# Hallamos todos los elementos no nulos de $L$ y $U$\n",
    "\n",
    "Partimos del elemento 0,0 y barremos la primera columna, luego la segunda, etc."
   ]
  },
  {
   "cell_type": "code",
   "execution_count": 5,
   "metadata": {
    "collapsed": false
   },
   "outputs": [],
   "source": [
    "for j in range(dim):\n",
    "    for i in range(dim):\n",
    "        if j>=i:\n",
    "            U[i,j] = Uij(A, L, U, i, j)\n",
    "        else:\n",
    "            L[i,j] = Lij(A, L, U, i, j)"
   ]
  },
  {
   "cell_type": "markdown",
   "metadata": {},
   "source": [
    "# Verificación\n",
    "\n",
    "Se debe cumplir que $L \\cdot U - A = 0$"
   ]
  },
  {
   "cell_type": "code",
   "execution_count": 6,
   "metadata": {
    "collapsed": false,
    "scrolled": true
   },
   "outputs": [],
   "source": [
    "def verificador(matriz1, matriz2):\n",
    "    \"\"\"verifica que los elementos de matriz1 y matriz2 sean casi iguales\n",
    "    (la tolerancia está dada por defecto en np.allclose, pero se podría cambiar)\n",
    "    \"\"\"\n",
    "    \n",
    "    sonIguales = np.allclose(matriz1, matriz2)\n",
    "    if sonIguales:\n",
    "        print(\"¡Verificación OK!\")\n",
    "    else:\n",
    "        print(\"¡Hubo un error en el cálculo!\")"
   ]
  },
  {
   "cell_type": "code",
   "execution_count": 7,
   "metadata": {
    "collapsed": false
   },
   "outputs": [
    {
     "name": "stdout",
     "output_type": "stream",
     "text": [
      "¡Verificación OK!\n"
     ]
    }
   ],
   "source": [
    "verificador(np.dot(L,U), A)"
   ]
  },
  {
   "cell_type": "markdown",
   "metadata": {},
   "source": [
    "# Funciones para hallar los elementos de $y$ y $x$"
   ]
  },
  {
   "cell_type": "code",
   "execution_count": 8,
   "metadata": {
    "collapsed": true
   },
   "outputs": [],
   "source": [
    "def y_n(L, b, y, n):\n",
    "    indiceSum = np.arange(0, n, 1)\n",
    "    ac = 0\n",
    "    for k in indiceSum:\n",
    "        ac = ac + L[n,k] * y[k]\n",
    "    return b[n] - ac"
   ]
  },
  {
   "cell_type": "code",
   "execution_count": 9,
   "metadata": {
    "collapsed": true
   },
   "outputs": [],
   "source": [
    "def x_n(U, y, x, n):\n",
    "    n_max = y.size\n",
    "    indiceSum = np.arange(n, n_max, 1)\n",
    "    ac = 0\n",
    "    for k in indiceSum:\n",
    "        ac = ac + U[n,k] * x[k]\n",
    "    return (y[n] - ac) / U[n,n]"
   ]
  },
  {
   "cell_type": "markdown",
   "metadata": {},
   "source": [
    "# Solución particular, para un vector $b$:"
   ]
  },
  {
   "cell_type": "code",
   "execution_count": 10,
   "metadata": {
    "collapsed": false
   },
   "outputs": [
    {
     "data": {
      "text/plain": [
       "array([5, 6, 7, 8, 9])"
      ]
     },
     "execution_count": 10,
     "metadata": {},
     "output_type": "execute_result"
    }
   ],
   "source": [
    "b = np.array([5, 6, 7, 8, 9])\n",
    "b"
   ]
  },
  {
   "cell_type": "markdown",
   "metadata": {},
   "source": [
    "## Cálculo del vector $y$"
   ]
  },
  {
   "cell_type": "code",
   "execution_count": 11,
   "metadata": {
    "collapsed": false
   },
   "outputs": [],
   "source": [
    "y = np.zeros(b.size)\n",
    "\n",
    "for k in range(b.size):\n",
    "    y[k] = y_n(L, b, y, k)"
   ]
  },
  {
   "cell_type": "markdown",
   "metadata": {},
   "source": [
    "## Verificación\n",
    "\n",
    "Se debe cumplir que $L \\cdot y = b$"
   ]
  },
  {
   "cell_type": "code",
   "execution_count": 12,
   "metadata": {
    "collapsed": false
   },
   "outputs": [
    {
     "name": "stdout",
     "output_type": "stream",
     "text": [
      "¡Verificación OK!\n"
     ]
    }
   ],
   "source": [
    "verificador(np.dot(L, y), b)"
   ]
  },
  {
   "cell_type": "markdown",
   "metadata": {},
   "source": [
    "# Cálculo final: obtención del vector $x$"
   ]
  },
  {
   "cell_type": "code",
   "execution_count": 13,
   "metadata": {
    "collapsed": false
   },
   "outputs": [
    {
     "name": "stdout",
     "output_type": "stream",
     "text": [
      "el vector solución es: [ 59.5 -67.5  87.  -55.  -20.5]\n"
     ]
    }
   ],
   "source": [
    "x = np.zeros(b.size)\n",
    "for k in range(b.size-1, -1, -1):\n",
    "    x[k] = x_n(U, y, x, k)\n",
    "    \n",
    "print(\"el vector solución es:\", x)"
   ]
  },
  {
   "cell_type": "markdown",
   "metadata": {},
   "source": [
    "## Verificación\n",
    "\n",
    "Se debe cumplir que $U \\cdot x = y$"
   ]
  },
  {
   "cell_type": "code",
   "execution_count": 14,
   "metadata": {
    "collapsed": false
   },
   "outputs": [
    {
     "name": "stdout",
     "output_type": "stream",
     "text": [
      "¡Verificación OK!\n"
     ]
    }
   ],
   "source": [
    "verificador(np.dot(U, x), y)"
   ]
  },
  {
   "cell_type": "markdown",
   "metadata": {},
   "source": [
    "También se debe cumplir que $A \\cdot x = b$:"
   ]
  },
  {
   "cell_type": "code",
   "execution_count": 15,
   "metadata": {
    "collapsed": false
   },
   "outputs": [
    {
     "name": "stdout",
     "output_type": "stream",
     "text": [
      "¡Verificación OK!\n"
     ]
    }
   ],
   "source": [
    "verificador(np.dot(A, x), b)"
   ]
  }
 ],
 "metadata": {
  "kernelspec": {
   "display_name": "Python 3",
   "language": "python",
   "name": "python3"
  },
  "language_info": {
   "codemirror_mode": {
    "name": "ipython",
    "version": 3
   },
   "file_extension": ".py",
   "mimetype": "text/x-python",
   "name": "python",
   "nbconvert_exporter": "python",
   "pygments_lexer": "ipython3",
   "version": "3.5.0"
  }
 },
 "nbformat": 4,
 "nbformat_minor": 0
}
