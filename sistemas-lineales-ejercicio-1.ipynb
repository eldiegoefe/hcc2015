{
 "cells": [
  {
   "cell_type": "markdown",
   "metadata": {},
   "source": [
    "# Enunciado del ejercicio 1 de sistemas lineales\n",
    "\n",
    "Resolver las ecuaciones Ax = b utilizando la descomposición de Doolittle para A. Resolver el sistema utilizando la descomposición LU obtenida para diversos b."
   ]
  },
  {
   "cell_type": "code",
   "execution_count": 1,
   "metadata": {
    "collapsed": false
   },
   "outputs": [],
   "source": [
    "import numpy as np\n",
    "A = np.array([\n",
    "    [1, 2, 4, 3, 5],\n",
    "    [3, 5, 3, 1, 2],\n",
    "    [1, 4, 4, 2, 1],\n",
    "    [4, 1, 2, 5, 3],\n",
    "    [5, 2, 1, 4, 1]])"
   ]
  },
  {
   "cell_type": "code",
   "execution_count": 2,
   "metadata": {
    "collapsed": false
   },
   "outputs": [
    {
     "data": {
      "text/plain": [
       "array([[ 1.,  0.,  0.,  0.,  0.],\n",
       "       [ 0.,  1.,  0.,  0.,  0.],\n",
       "       [ 0.,  0.,  1.,  0.,  0.],\n",
       "       [ 0.,  0.,  0.,  1.,  0.],\n",
       "       [ 0.,  0.,  0.,  0.,  1.]])"
      ]
     },
     "execution_count": 2,
     "metadata": {},
     "output_type": "execute_result"
    }
   ],
   "source": [
    "dimension = np.shape(A)[0]\n",
    "L = np.identity(dimension)\n",
    "L"
   ]
  },
  {
   "cell_type": "markdown",
   "metadata": {},
   "source": [
    "# Chequear si la matriz es diagonalmente dominante"
   ]
  },
  {
   "cell_type": "markdown",
   "metadata": {},
   "source": [
    "Aunque la matriz sólo tiene enteros positivos, agrego el cálculo del valor absoluto por si después probamos con otra matriz."
   ]
  },
  {
   "cell_type": "code",
   "execution_count": 3,
   "metadata": {
    "collapsed": true
   },
   "outputs": [],
   "source": [
    "def isDiagDom(A):\n",
    "    \n",
    "    # Aunque la matriz del problema sólo tiene enteros\n",
    "    # positivos, generalizo para matrices con otras\n",
    "    # características\n",
    "    \n",
    "    diagA = np.absolute(np.multiply(A, L))\n",
    "    fueraDiagA = np.absolute(A - diagA)\n",
    "    \n",
    "    sumDiagA = np.sum(diagA)\n",
    "    sumFueraDiagA = np.sum(fueraDiagA)\n",
    "    \n",
    "    print(\"diagonal de A: \\n\", diagA)\n",
    "    print(\"----------------------------------------\")\n",
    "    print(\"resto de A: \\n\", fueraDiagA)\n",
    "    print(\"----------------------------------------\")\n",
    "    print(\"suma diagonal: \", sumDiagA)\n",
    "    print(\"suma del resto de los elementos: \", sumFueraDiagA)\n",
    "    print(\"----------------------------------------\")\n",
    "    \n",
    "    if sumDiagA < sumFueraDiagA:\n",
    "        print(\"La matriz NO es diagonalmente dominante, ¡seguí participando!\")\n",
    "        return False\n",
    "    else:\n",
    "        print(\"Todo bien, seguí adelante!\")\n",
    "        return True"
   ]
  },
  {
   "cell_type": "code",
   "execution_count": 4,
   "metadata": {
    "collapsed": false
   },
   "outputs": [
    {
     "name": "stdout",
     "output_type": "stream",
     "text": [
      "diagonal de A: \n",
      " [[ 1.  0.  0.  0.  0.]\n",
      " [ 0.  5.  0.  0.  0.]\n",
      " [ 0.  0.  4.  0.  0.]\n",
      " [ 0.  0.  0.  5.  0.]\n",
      " [ 0.  0.  0.  0.  1.]]\n",
      "----------------------------------------\n",
      "resto de A: \n",
      " [[ 0.  2.  4.  3.  5.]\n",
      " [ 3.  0.  3.  1.  2.]\n",
      " [ 1.  4.  0.  2.  1.]\n",
      " [ 4.  1.  2.  0.  3.]\n",
      " [ 5.  2.  1.  4.  0.]]\n",
      "----------------------------------------\n",
      "suma diagonal:  16.0\n",
      "suma del resto de los elementos:  53.0\n",
      "----------------------------------------\n",
      "La matriz NO es diagonalmente dominante, ¡seguí participando!\n"
     ]
    },
    {
     "data": {
      "text/plain": [
       "False"
      ]
     },
     "execution_count": 4,
     "metadata": {},
     "output_type": "execute_result"
    }
   ],
   "source": [
    "isDiagDom(A)"
   ]
  },
  {
   "cell_type": "markdown",
   "metadata": {},
   "source": [
    "# Convirtiendo la matriz en diagonalmente dominante"
   ]
  },
  {
   "cell_type": "markdown",
   "metadata": {},
   "source": [
    "Por simple inspección muevo las filas para que en la diagonal queden los valores más grandes. Llamo U1 a la nueva matriz."
   ]
  },
  {
   "cell_type": "code",
   "execution_count": 5,
   "metadata": {
    "collapsed": false
   },
   "outputs": [
    {
     "data": {
      "text/plain": [
       "array([[5, 2, 1, 4, 1],\n",
       "       [3, 5, 3, 1, 2],\n",
       "       [1, 4, 4, 2, 1],\n",
       "       [4, 1, 2, 5, 3],\n",
       "       [1, 2, 4, 3, 5]])"
      ]
     },
     "execution_count": 5,
     "metadata": {},
     "output_type": "execute_result"
    }
   ],
   "source": [
    "U1 = A.copy()\n",
    "U1[0, ::] = A[4, ::]\n",
    "U1[4, ::] = A[0, ::]\n",
    "U1"
   ]
  },
  {
   "cell_type": "code",
   "execution_count": 6,
   "metadata": {
    "collapsed": false
   },
   "outputs": [
    {
     "name": "stdout",
     "output_type": "stream",
     "text": [
      "diagonal de A: \n",
      " [[ 5.  0.  0.  0.  0.]\n",
      " [ 0.  5.  0.  0.  0.]\n",
      " [ 0.  0.  4.  0.  0.]\n",
      " [ 0.  0.  0.  5.  0.]\n",
      " [ 0.  0.  0.  0.  5.]]\n",
      "----------------------------------------\n",
      "resto de A: \n",
      " [[ 0.  2.  1.  4.  1.]\n",
      " [ 3.  0.  3.  1.  2.]\n",
      " [ 1.  4.  0.  2.  1.]\n",
      " [ 4.  1.  2.  0.  3.]\n",
      " [ 1.  2.  4.  3.  0.]]\n",
      "----------------------------------------\n",
      "suma diagonal:  24.0\n",
      "suma del resto de los elementos:  45.0\n",
      "----------------------------------------\n",
      "La matriz NO es diagonalmente dominante, ¡seguí participando!\n"
     ]
    },
    {
     "data": {
      "text/plain": [
       "False"
      ]
     },
     "execution_count": 6,
     "metadata": {},
     "output_type": "execute_result"
    }
   ],
   "source": [
    "isDiagDom(U1)"
   ]
  },
  {
   "cell_type": "markdown",
   "metadata": {},
   "source": [
    "**Unicamente con permutaciones no veo cómo se puede convertir la matriz en diagonalmente dominante, seguro me estoy perdiendo de algo.**"
   ]
  },
  {
   "cell_type": "markdown",
   "metadata": {},
   "source": [
    "# Inicio del proceso"
   ]
  },
  {
   "cell_type": "markdown",
   "metadata": {},
   "source": [
    "Igual armo el procedimiento...\n",
    "\n",
    "**Observación**: en la matriz U2 voy a ir guardando los resultados de operar con U1, así puedo correr múltiples veces las celdas del notebook sin tener que reiniciar el kernel para resetear las matrices."
   ]
  },
  {
   "cell_type": "code",
   "execution_count": 7,
   "metadata": {
    "collapsed": false,
    "scrolled": true
   },
   "outputs": [
    {
     "data": {
      "text/plain": [
       "array([[5, 2, 1, 4, 1],\n",
       "       [3, 5, 3, 1, 2],\n",
       "       [1, 4, 4, 2, 1],\n",
       "       [4, 1, 2, 5, 3],\n",
       "       [1, 2, 4, 3, 5]])"
      ]
     },
     "execution_count": 7,
     "metadata": {},
     "output_type": "execute_result"
    }
   ],
   "source": [
    "U2 = U1.copy()\n",
    "U2"
   ]
  },
  {
   "cell_type": "markdown",
   "metadata": {},
   "source": [
    "# Poniendo a cero la columna 0"
   ]
  },
  {
   "cell_type": "markdown",
   "metadata": {},
   "source": [
    "**Los L[i,0] están calculados analíticamente, aunque habría que chequearlo...**.\n",
    "\n",
    "$$\n",
    "\\begin{bmatrix}\n",
    "a_{00} & a_{01} & a_{02} & a_{03} & a_{04} \\\\\n",
    "a_{10} & a_{11} & a_{12} & a_{13} & a_{14} \\\\\n",
    "a_{20} & a_{21} & a_{22} & a_{23} & a_{24} \\\\\n",
    "a_{30} & a_{31} & a_{32} & a_{33} & a_{34} \\\\\n",
    "a_{40} & a_{41} & a_{42} & a_{43} & a_{44} \\\\\n",
    "\\end{bmatrix} = \n",
    "\\begin{bmatrix}\n",
    "1 & 0 & 0 & 0 & 0 \\\\\n",
    "L_{10} & 1 & 0 & 0 & 0 \\\\\n",
    "L_{20} & L_{21} & 1 & 0 & 0 \\\\\n",
    "L_{30} & L_{31} & L_{32} & 1 & 0 \\\\\n",
    "L_{40} & L_{41} & L_{42} & L_{43} & 1\n",
    "\\end{bmatrix} \\cdot\n",
    "\\begin{bmatrix}\n",
    "U_{00} & U_{01} & U_{02} & U_{03} & U_{04} \\\\\n",
    "0 & U_{11} & U_{12} & U_{13} & U_{14} \\\\\n",
    "0 & 0 & U_{22} & U_{23} & U_{24} \\\\\n",
    "0 & 0 & 0 & U_{33} & U_{34} \\\\\n",
    "0 & 0 & 0 & 0 & U_{44} \\\\\n",
    "\\end{bmatrix}\n",
    "$$"
   ]
  },
  {
   "cell_type": "markdown",
   "metadata": {},
   "source": [
    "De ahí se despejan los $L_{10}$, $L_{20}$, etc."
   ]
  },
  {
   "cell_type": "markdown",
   "metadata": {},
   "source": [
    "$$ \n",
    "a_{00} = 1 \\cdot U_{00} \\\\\n",
    "a_{10} =  L_{10} \\cdot U_{00} \\\\\n",
    "\\dots \\\\\n",
    "a_{31} = L_{30}U_{01} + L_{31}U_{11} \\\\\n",
    "a_{32} = L_{30}U_{02} + L_{31}U_{12} + L_{32}U_{22} \\\\\n",
    "\\dots \\\\\n",
    "a_{43} = L_{40}U_{03} + L_{41}U_{13} + L_{42}U_{23} + L_{43}U_{33} \\\\\n",
    "\\dots\n",
    "$$"
   ]
  },
  {
   "cell_type": "markdown",
   "metadata": {},
   "source": [
    "### Inicio de los cálculos"
   ]
  },
  {
   "cell_type": "code",
   "execution_count": 8,
   "metadata": {
    "collapsed": false
   },
   "outputs": [
    {
     "name": "stdout",
     "output_type": "stream",
     "text": [
      "0.6\n",
      "0.6\n"
     ]
    }
   ],
   "source": [
    "n = U1[1,0] / U1[0,0]\n",
    "U2[1, ::] = U1[1, ::] - n * U1[0, ::]\n",
    "\n",
    "L[1,0] = U1[1,0] / U2[0,0]\n",
    "\n",
    "print(L[1,0])\n",
    "print(n)"
   ]
  },
  {
   "cell_type": "code",
   "execution_count": 9,
   "metadata": {
    "collapsed": false
   },
   "outputs": [
    {
     "name": "stdout",
     "output_type": "stream",
     "text": [
      "0.2\n",
      "0.2\n"
     ]
    }
   ],
   "source": [
    "n = U1[2,0] / U1[0,0]\n",
    "U2[2, ::] = U1[2, ::] - n * U1[0, ::]\n",
    "\n",
    "L[2,0] = U1[2,0] / U2[0,0]\n",
    "\n",
    "print(L[2,0])\n",
    "print(n)"
   ]
  },
  {
   "cell_type": "code",
   "execution_count": 10,
   "metadata": {
    "collapsed": false
   },
   "outputs": [
    {
     "name": "stdout",
     "output_type": "stream",
     "text": [
      "0.8\n",
      "0.8\n"
     ]
    }
   ],
   "source": [
    "n = U1[3,0] / U1[0,0]\n",
    "U2[3, ::] = U1[3, ::] - n * U1[0, ::]\n",
    "\n",
    "L[3,0] = U1[3,0] / U2[0,0]\n",
    "\n",
    "print(L[3,0])\n",
    "print(n)"
   ]
  },
  {
   "cell_type": "code",
   "execution_count": 11,
   "metadata": {
    "collapsed": false,
    "scrolled": true
   },
   "outputs": [
    {
     "name": "stdout",
     "output_type": "stream",
     "text": [
      "0.2\n",
      "0.2\n"
     ]
    }
   ],
   "source": [
    "n = U1[4,0] / U1[0,0]\n",
    "U2[4, ::] = U1[4, ::] - n * U1[0, ::]\n",
    "\n",
    "L[4,0] = U1[4,0] / U2[0,0]\n",
    "\n",
    "print(L[4,0])\n",
    "print(n)"
   ]
  },
  {
   "cell_type": "code",
   "execution_count": 12,
   "metadata": {
    "collapsed": false
   },
   "outputs": [
    {
     "data": {
      "text/plain": [
       "array([[ 5,  2,  1,  4,  1],\n",
       "       [ 0,  3,  2, -1,  1],\n",
       "       [ 0,  3,  3,  1,  0],\n",
       "       [ 0,  0,  1,  1,  2],\n",
       "       [ 0,  1,  3,  2,  4]])"
      ]
     },
     "execution_count": 12,
     "metadata": {},
     "output_type": "execute_result"
    }
   ],
   "source": [
    "U2"
   ]
  },
  {
   "cell_type": "markdown",
   "metadata": {},
   "source": [
    "## Síntesis del proceso de poner a cero la columna 0"
   ]
  },
  {
   "cell_type": "markdown",
   "metadata": {},
   "source": [
    "Todos los pasos anteriores destinados a igualar a cero los elementos debajo de U[0,0] se pueden sintetizar así:"
   ]
  },
  {
   "cell_type": "code",
   "execution_count": 13,
   "metadata": {
    "collapsed": false
   },
   "outputs": [],
   "source": [
    "# U2 = U1.copy()\n",
    "# for i in range(1, 5):\n",
    "#    n = U1[i,0] / U1[0,0]\n",
    "#    U2[i, ::] = U1[i, ::] - n * U1[0, ::]\n",
    "#    L[i,0] = U1[i,0] / U2[0,0]"
   ]
  },
  {
   "cell_type": "markdown",
   "metadata": {},
   "source": [
    "# Poniendo a cero la columna 1"
   ]
  },
  {
   "cell_type": "code",
   "execution_count": 14,
   "metadata": {
    "collapsed": false
   },
   "outputs": [
    {
     "name": "stdout",
     "output_type": "stream",
     "text": [
      "Acá ya hay diferencias entre L[i,1] y n\n",
      "1.2\n",
      "1.0\n",
      "------------\n",
      "4\n",
      "0.4\n",
      "3\n"
     ]
    }
   ],
   "source": [
    "U3 = U2.copy()\n",
    "\n",
    "n = U2[2,1] / U2[1,1]\n",
    "U3[2, ::] = U2[2, ::] - n * U2[1, ::]\n",
    "\n",
    "L[2,1] = (U1[2,1] - L[2,0] * U3[0,1]) / U3[1,1]\n",
    "\n",
    "print(\"Acá ya hay diferencias entre L[i,1] y n\")\n",
    "print(L[2,1])\n",
    "print(n)\n",
    "print(\"------------\")\n",
    "print(U1[2,1])\n",
    "print(L[2,0] * U3[0,1])\n",
    "print(U3[1,1])\n"
   ]
  },
  {
   "cell_type": "code",
   "execution_count": 15,
   "metadata": {
    "collapsed": false
   },
   "outputs": [
    {
     "name": "stdout",
     "output_type": "stream",
     "text": [
      "-0.2\n",
      "0.0\n"
     ]
    }
   ],
   "source": [
    "n = U2[3,1] / U2[1,1]\n",
    "U3[3, ::] = U2[3, ::] - n * U2[1, ::]\n",
    "\n",
    "L[3,1] = (U1[3,1] - L[3,0] * U3[0,1]) / U3[1,1]\n",
    "L[3,1]\n",
    "\n",
    "print(L[3,1])\n",
    "print(n)"
   ]
  },
  {
   "cell_type": "code",
   "execution_count": 16,
   "metadata": {
    "collapsed": false,
    "scrolled": true
   },
   "outputs": [
    {
     "name": "stdout",
     "output_type": "stream",
     "text": [
      "0.533333333333\n",
      "0.333333333333\n"
     ]
    }
   ],
   "source": [
    "n = U2[4,1] / U2[1,1]\n",
    "U3[4, ::] = U2[4, ::] - n * U2[1, ::]\n",
    "\n",
    "L[4,1] = (U1[4,1] - L[4,0] * U3[0,1]) / U3[1,1]\n",
    "\n",
    "print(L[4,1])\n",
    "print(n)"
   ]
  },
  {
   "cell_type": "code",
   "execution_count": 23,
   "metadata": {
    "collapsed": false
   },
   "outputs": [
    {
     "data": {
      "text/plain": [
       "array([[ 5,  2,  1,  4,  1],\n",
       "       [ 0,  3,  2, -1,  1],\n",
       "       [ 0,  0,  1,  2, -1],\n",
       "       [ 0,  0,  1,  1,  2],\n",
       "       [ 0,  0,  2,  2,  3]])"
      ]
     },
     "execution_count": 23,
     "metadata": {},
     "output_type": "execute_result"
    }
   ],
   "source": [
    "U3"
   ]
  },
  {
   "cell_type": "markdown",
   "metadata": {},
   "source": [
    "# Poniendo a cero la columna 2"
   ]
  },
  {
   "cell_type": "code",
   "execution_count": 17,
   "metadata": {
    "collapsed": false
   },
   "outputs": [
    {
     "name": "stdout",
     "output_type": "stream",
     "text": [
      "1.6\n",
      "1.0\n"
     ]
    }
   ],
   "source": [
    "U4 = U3.copy()\n",
    "\n",
    "n = U3[3,2] / U3[2,2]\n",
    "U4[3, ::] = U3[3, ::] - n * U3[2, ::]\n",
    "\n",
    "L[3,2] = (U1[3,2] - L[3,0] * U4[0,2] - L[3,1] * U4[1,2]) / U4[2,2]\n",
    "\n",
    "print(L[3,2])\n",
    "print(n)"
   ]
  },
  {
   "cell_type": "code",
   "execution_count": 18,
   "metadata": {
    "collapsed": false,
    "scrolled": true
   },
   "outputs": [
    {
     "name": "stdout",
     "output_type": "stream",
     "text": [
      "2.73333333333\n",
      "2.0\n"
     ]
    }
   ],
   "source": [
    "n = U3[4,2] / U3[2,2]\n",
    "U4[4, ::] = U3[4, ::] - n * U3[2, ::]\n",
    "\n",
    "L[4,2] = (U1[4,2] - L[4,0] * U4[0,2] - L[4,1] * U4[1,2]) / U4[2,2]\n",
    "\n",
    "print(L[4,2])\n",
    "print(n)"
   ]
  },
  {
   "cell_type": "code",
   "execution_count": 24,
   "metadata": {
    "collapsed": false
   },
   "outputs": [
    {
     "data": {
      "text/plain": [
       "array([[ 5,  2,  1,  4,  1],\n",
       "       [ 0,  3,  2, -1,  1],\n",
       "       [ 0,  0,  1,  2, -1],\n",
       "       [ 0,  0,  0, -1,  3],\n",
       "       [ 0,  0,  0, -2,  5]])"
      ]
     },
     "execution_count": 24,
     "metadata": {},
     "output_type": "execute_result"
    }
   ],
   "source": [
    "U4"
   ]
  },
  {
   "cell_type": "markdown",
   "metadata": {},
   "source": [
    "# Poniendo a cero la columna 3"
   ]
  },
  {
   "cell_type": "code",
   "execution_count": 19,
   "metadata": {
    "collapsed": false,
    "scrolled": false
   },
   "outputs": [
    {
     "name": "stdout",
     "output_type": "stream",
     "text": [
      "2.73333333333\n",
      "2.0\n"
     ]
    }
   ],
   "source": [
    "U5 = U4.copy()\n",
    "\n",
    "n = U4[4,3] / U4[3,3]\n",
    "U5[4, ::] = U4[4, ::] - n * U4[3, ::]\n",
    "\n",
    "L[4,3] = (U1[4,3] - L[4,0] * U5[0,3] - L[4,1] * U5[1,3] - L[4,2] * U5[2,3]) / U5[3,3]\n",
    "\n",
    "print(L[4,3])\n",
    "print(n)"
   ]
  },
  {
   "cell_type": "code",
   "execution_count": 25,
   "metadata": {
    "collapsed": false
   },
   "outputs": [
    {
     "data": {
      "text/plain": [
       "array([[ 5,  2,  1,  4,  1],\n",
       "       [ 0,  3,  2, -1,  1],\n",
       "       [ 0,  0,  1,  2, -1],\n",
       "       [ 0,  0,  0, -1,  3],\n",
       "       [ 0,  0,  0,  0, -1]])"
      ]
     },
     "execution_count": 25,
     "metadata": {},
     "output_type": "execute_result"
    }
   ],
   "source": [
    "U5"
   ]
  },
  {
   "cell_type": "markdown",
   "metadata": {},
   "source": [
    "# Verificación (¡no se verifica!)"
   ]
  },
  {
   "cell_type": "code",
   "execution_count": 20,
   "metadata": {
    "collapsed": false
   },
   "outputs": [
    {
     "name": "stdout",
     "output_type": "stream",
     "text": [
      "matriz A\n",
      " [[5 2 1 4 1]\n",
      " [3 5 3 1 2]\n",
      " [1 4 4 2 1]\n",
      " [4 1 2 5 3]\n",
      " [1 2 4 3 5]]\n",
      "\n",
      "L * U\n",
      " [[ 5.   2.   1.   4.   1. ]\n",
      " [ 3.   4.2  2.6  1.4  1.6]\n",
      " [ 1.   4.   3.6  1.6  0.4]\n",
      " [ 4.   1.   2.   5.6  2. ]\n",
      " [ 1.   2.   4.   3.   5.2]]\n",
      "\n",
      "L\n",
      " [[ 1.     0.     0.     0.     0.   ]\n",
      " [ 0.6    1.     0.     0.     0.   ]\n",
      " [ 0.2    1.2    1.     0.     0.   ]\n",
      " [ 0.8   -0.2    1.6    1.     0.   ]\n",
      " [ 0.2    0.533  2.733  2.733  1.   ]]\n",
      "\n",
      "U\n",
      " [[ 5  2  1  4  1]\n",
      " [ 0  3  2 -1  1]\n",
      " [ 0  0  1  2 -1]\n",
      " [ 0  0  0 -1  3]\n",
      " [ 0  0  0  0 -1]]\n"
     ]
    }
   ],
   "source": [
    "# para mostrar las matrices sin notación científica\n",
    "np.set_printoptions(suppress=True, precision=3) \n",
    "\n",
    "print(\"matriz A\\n\", U1)\n",
    "print()\n",
    "print(\"L * U\\n\", np.dot(L,U5))\n",
    "print()\n",
    "print(\"L\\n\", L)\n",
    "print()\n",
    "print(\"U\\n\", U5)\n"
   ]
  },
  {
   "cell_type": "markdown",
   "metadata": {},
   "source": [
    "# Cálculo de L y U con Scipy"
   ]
  },
  {
   "cell_type": "code",
   "execution_count": 21,
   "metadata": {
    "collapsed": false
   },
   "outputs": [],
   "source": [
    "import scipy.linalg as la\n",
    "\n",
    "# para mostrar las matrices sin notación científica\n",
    "np.set_printoptions(suppress=True, precision=5) \n",
    "\n",
    "p0, L0, U0 = la.lu(U1)"
   ]
  },
  {
   "cell_type": "markdown",
   "metadata": {},
   "source": [
    "# Verificación"
   ]
  },
  {
   "cell_type": "code",
   "execution_count": 22,
   "metadata": {
    "collapsed": false
   },
   "outputs": [
    {
     "name": "stdout",
     "output_type": "stream",
     "text": [
      "matriz A\n",
      " [[5 2 1 4 1]\n",
      " [3 5 3 1 2]\n",
      " [1 4 4 2 1]\n",
      " [4 1 2 5 3]\n",
      " [1 2 4 3 5]]\n",
      "\n",
      "L * U\n",
      " [[ 5.  2.  1.  4.  1.]\n",
      " [ 3.  5.  3.  1.  2.]\n",
      " [ 1.  2.  4.  3.  5.]\n",
      " [ 1.  4.  4.  2.  1.]\n",
      " [ 4.  1.  2.  5.  3.]]\n",
      "\n",
      "L\n",
      " [[ 1.       0.       0.       0.       0.     ]\n",
      " [ 0.6      1.       0.       0.       0.     ]\n",
      " [ 0.2      0.42105  1.       0.       0.     ]\n",
      " [ 0.2      0.94737  0.54717  1.       0.     ]\n",
      " [ 0.8     -0.15789  0.56604 -0.       1.     ]]\n",
      "\n",
      "U\n",
      " [[ 5.       2.       1.       4.       1.     ]\n",
      " [ 0.       3.8      2.4     -1.4      1.4    ]\n",
      " [ 0.       0.       2.78947  2.78947  4.21053]\n",
      " [ 0.       0.       0.       1.      -2.83019]\n",
      " [ 0.       0.       0.       0.       0.03774]]\n",
      "\n",
      "permutaciones\n",
      " [[ 1.  0.  0.  0.  0.]\n",
      " [ 0.  1.  0.  0.  0.]\n",
      " [ 0.  0.  0.  1.  0.]\n",
      " [ 0.  0.  0.  0.  1.]\n",
      " [ 0.  0.  1.  0.  0.]]\n"
     ]
    }
   ],
   "source": [
    "print(\"matriz A\\n\", U1)\n",
    "print()\n",
    "print(\"L * U\\n\", np.dot(L0,U0))\n",
    "print()\n",
    "print(\"L\\n\", L0)\n",
    "print()\n",
    "print(\"U\\n\", U0)\n",
    "print()\n",
    "print(\"permutaciones\\n\", p0)"
   ]
  },
  {
   "cell_type": "code",
   "execution_count": null,
   "metadata": {
    "collapsed": true
   },
   "outputs": [],
   "source": []
  }
 ],
 "metadata": {
  "kernelspec": {
   "display_name": "Python 3",
   "language": "python",
   "name": "python3"
  },
  "language_info": {
   "codemirror_mode": {
    "name": "ipython",
    "version": 3
   },
   "file_extension": ".py",
   "mimetype": "text/x-python",
   "name": "python",
   "nbconvert_exporter": "python",
   "pygments_lexer": "ipython3",
   "version": "3.5.0"
  }
 },
 "nbformat": 4,
 "nbformat_minor": 0
}
