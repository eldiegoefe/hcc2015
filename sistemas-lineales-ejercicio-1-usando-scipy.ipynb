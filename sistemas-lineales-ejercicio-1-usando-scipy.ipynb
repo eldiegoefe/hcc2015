{
 "cells": [
  {
   "cell_type": "markdown",
   "metadata": {},
   "source": [
    "# Sistemas lineales\n",
    "\n",
    "## Ejercicio 1: Descomposición de Doolittle\n",
    "\n",
    "Resolver las ecuaciones Ax = b utilizando la descomposición de Doolittle para A. Resolver el sistema utilizando la descomposición LU obtenida para diversos b."
   ]
  },
  {
   "cell_type": "code",
   "execution_count": 1,
   "metadata": {
    "collapsed": false
   },
   "outputs": [],
   "source": [
    "import numpy as np\n",
    "import scipy.linalg as la\n",
    "# para mostrar las matrices sin notación científica\n",
    "np.set_printoptions(suppress=True, precision=5) \n",
    "\n",
    "A = np.array([\n",
    "    [1, 2, 4, 3, 5],\n",
    "    [3, 5, 3, 1, 2],\n",
    "    [1, 4, 4, 2, 1],\n",
    "    [4, 1, 2, 5, 3], \n",
    "    [5, 2, 1, 4, 1]])"
   ]
  },
  {
   "cell_type": "code",
   "execution_count": 2,
   "metadata": {
    "collapsed": false
   },
   "outputs": [],
   "source": [
    "LU, piv = la.lu_factor(A)"
   ]
  },
  {
   "cell_type": "markdown",
   "metadata": {},
   "source": [
    "# Solución particular, para un vector $b$:"
   ]
  },
  {
   "cell_type": "code",
   "execution_count": 3,
   "metadata": {
    "collapsed": false
   },
   "outputs": [
    {
     "data": {
      "text/plain": [
       "array([5, 6, 7, 8, 9])"
      ]
     },
     "execution_count": 3,
     "metadata": {},
     "output_type": "execute_result"
    }
   ],
   "source": [
    "b = np.array([5, 6, 7, 8, 9])\n",
    "b"
   ]
  },
  {
   "cell_type": "code",
   "execution_count": 4,
   "metadata": {
    "collapsed": false
   },
   "outputs": [
    {
     "data": {
      "text/plain": [
       "array([ 59.5, -67.5,  87. , -55. , -20.5])"
      ]
     },
     "execution_count": 4,
     "metadata": {},
     "output_type": "execute_result"
    }
   ],
   "source": [
    "x = la.lu_solve((LU,piv), b)\n",
    "x"
   ]
  },
  {
   "cell_type": "markdown",
   "metadata": {},
   "source": [
    "## Verificación\n",
    "\n",
    "Se debe cumplir que $A \\cdot x = b$"
   ]
  },
  {
   "cell_type": "code",
   "execution_count": 5,
   "metadata": {
    "collapsed": false
   },
   "outputs": [],
   "source": [
    "def verificador(matriz1, matriz2):\n",
    "    \"\"\"verifica que los elementos de matriz1 y matriz2 sean casi iguales\n",
    "    (la tolerancia está dada por defecto en np.allclose, pero se podría cambiar)\n",
    "    \"\"\"\n",
    "    \n",
    "    sonIguales = np.allclose(matriz1, matriz2)\n",
    "    if sonIguales:\n",
    "        print(\"¡Verificación OK!\")\n",
    "    else:\n",
    "        print(\"¡Hubo un error en el cálculo!\")"
   ]
  },
  {
   "cell_type": "code",
   "execution_count": 6,
   "metadata": {
    "collapsed": false
   },
   "outputs": [
    {
     "name": "stdout",
     "output_type": "stream",
     "text": [
      "¡Verificación OK!\n"
     ]
    }
   ],
   "source": [
    "verificador(np.dot(A, x), b)"
   ]
  }
 ],
 "metadata": {
  "kernelspec": {
   "display_name": "Python 3",
   "language": "python",
   "name": "python3"
  },
  "language_info": {
   "codemirror_mode": {
    "name": "ipython",
    "version": 3
   },
   "file_extension": ".py",
   "mimetype": "text/x-python",
   "name": "python",
   "nbconvert_exporter": "python",
   "pygments_lexer": "ipython3",
   "version": "3.5.0"
  }
 },
 "nbformat": 4,
 "nbformat_minor": 0
}
