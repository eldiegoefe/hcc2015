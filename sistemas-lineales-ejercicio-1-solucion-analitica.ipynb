{
 "cells": [
  {
   "cell_type": "markdown",
   "metadata": {},
   "source": [
    "# Sistemas lineales\n",
    "\n",
    "## Ejercicio 1: Descomposición de Doolittle\n",
    "\n",
    "Resolver las ecuaciones Ax = b utilizando la descomposición de Doolittle para A. Resolver el sistema utilizando la descomposición LU obtenida para diversos b.\n",
    "\n",
    "**Para poder implementar la solución computacional es necesario hallar las expresiones generales para los elementos de L y de U.**"
   ]
  },
  {
   "cell_type": "markdown",
   "metadata": {},
   "source": [
    "# Expresión de A = L $\\cdot$ U"
   ]
  },
  {
   "cell_type": "markdown",
   "metadata": {},
   "source": [
    "$$\n",
    "\\begin{bmatrix}\n",
    "a_{00} & a_{01} & a_{02} & a_{03} & a_{04} \\\\\n",
    "a_{10} & a_{11} & a_{12} & a_{13} & a_{14} \\\\\n",
    "a_{20} & a_{21} & a_{22} & a_{23} & a_{24} \\\\\n",
    "a_{30} & a_{31} & a_{32} & a_{33} & a_{34} \\\\\n",
    "a_{40} & a_{41} & a_{42} & a_{43} & a_{44} \\\\\n",
    "\\end{bmatrix} = \n",
    "\\begin{bmatrix}\n",
    "1 & 0 & 0 & 0 & 0 \\\\\n",
    "L_{10} & 1 & 0 & 0 & 0 \\\\\n",
    "L_{20} & L_{21} & 1 & 0 & 0 \\\\\n",
    "L_{30} & L_{31} & L_{32} & 1 & 0 \\\\\n",
    "L_{40} & L_{41} & L_{42} & L_{43} & 1\n",
    "\\end{bmatrix} \\cdot\n",
    "\\begin{bmatrix}\n",
    "U_{00} & U_{01} & U_{02} & U_{03} & U_{04} \\\\\n",
    "0 & U_{11} & U_{12} & U_{13} & U_{14} \\\\\n",
    "0 & 0 & U_{22} & U_{23} & U_{24} \\\\\n",
    "0 & 0 & 0 & U_{33} & U_{34} \\\\\n",
    "0 & 0 & 0 & 0 & U_{44} \\\\\n",
    "\\end{bmatrix}\n",
    "$$"
   ]
  },
  {
   "cell_type": "markdown",
   "metadata": {},
   "source": [
    "Cada elemento $a_{ij}$ se calcula con los elementos de L y de U."
   ]
  },
  {
   "cell_type": "markdown",
   "metadata": {},
   "source": [
    "$$ \n",
    "a_{00} = U_{00} \\\\\n",
    "$$"
   ]
  },
  {
   "cell_type": "markdown",
   "metadata": {},
   "source": [
    "Despejamos los L de la primera columna:"
   ]
  },
  {
   "cell_type": "markdown",
   "metadata": {},
   "source": [
    "$$\n",
    "a_{10} =  L_{10} \\cdot U_{00} \\\\\n",
    "\\dots \\\\\n",
    "a_{n0} =  L_{n0} \\cdot U_{00}\n",
    "$$"
   ]
  },
  {
   "cell_type": "markdown",
   "metadata": {},
   "source": [
    "La forma general de $L_{i0}$:"
   ]
  },
  {
   "cell_type": "markdown",
   "metadata": {},
   "source": [
    "$$\n",
    "L_{i0} = \\frac{a_{i0}}{U_{00}} \\quad 1\\leq i \\leq n\n",
    "$$"
   ]
  },
  {
   "cell_type": "markdown",
   "metadata": {},
   "source": [
    "Despejamos los U de la primera fila:"
   ]
  },
  {
   "cell_type": "markdown",
   "metadata": {},
   "source": [
    "$$ \n",
    "a_{01} = U_{01} \\\\\n",
    "a_{02} =  U_{02} \\\\\n",
    "\\dots \\\\\n",
    "a_{0n} =  U_{0n} \\\\\n",
    "$$"
   ]
  },
  {
   "cell_type": "markdown",
   "metadata": {},
   "source": [
    "La forma general de $U_{0j}$:"
   ]
  },
  {
   "cell_type": "markdown",
   "metadata": {},
   "source": [
    "$$\n",
    "U_{0j} = a_{0j} \\quad 1 \\leq j \\leq n\n",
    "$$"
   ]
  },
  {
   "cell_type": "markdown",
   "metadata": {},
   "source": [
    "El elemento $U_{11}$ se obtiene de:"
   ]
  },
  {
   "cell_type": "markdown",
   "metadata": {},
   "source": [
    "$$\n",
    "a_{11} = L_{10}U_{01} + U_{11}\n",
    "$$"
   ]
  },
  {
   "cell_type": "markdown",
   "metadata": {},
   "source": [
    "Despejamos los L de la segunda columna ($L_{i1}$):"
   ]
  },
  {
   "cell_type": "markdown",
   "metadata": {},
   "source": [
    "$$\n",
    "a_{21} = L_{20}U_{01} + L_{21}U_{11} \\\\\n",
    "a_{31} = L_{30}U_{01} + L_{31}U_{11} \\\\\n",
    "\\cdots \\\\\n",
    "a_{n1} = L_{n0}U_{01} + L_{n1}U_{11}\n",
    "$$"
   ]
  },
  {
   "cell_type": "markdown",
   "metadata": {},
   "source": [
    "La forma general de $L_{i1}$:"
   ]
  },
  {
   "cell_type": "markdown",
   "metadata": {},
   "source": [
    "$$ L_{i1} = \\left[ a_{i1} - L_{i0}U_{01} \\right] \\frac{1}{U_{11}} $$"
   ]
  },
  {
   "cell_type": "markdown",
   "metadata": {},
   "source": [
    "Despejamos los U de la segunda fila ($U_{1j}$):"
   ]
  },
  {
   "cell_type": "markdown",
   "metadata": {},
   "source": [
    "$$\n",
    "a_{12} = L_{10}U_{02} + U_{12} \\\\\n",
    "a_{13} = L_{10}U_{03} + U_{13} \\\\\n",
    "\\cdots \\\\\n",
    "a_{1n} = L_{10}U_{0n} + U_{1n}\n",
    "$$"
   ]
  },
  {
   "cell_type": "markdown",
   "metadata": {},
   "source": [
    "La forma general de $U_{1j}$:"
   ]
  },
  {
   "cell_type": "markdown",
   "metadata": {},
   "source": [
    "$$\n",
    "U_{1j} = a_{1j} - L_{10}U_{0j} \\quad 2 \\leq j \\leq n\n",
    "$$"
   ]
  },
  {
   "cell_type": "markdown",
   "metadata": {},
   "source": [
    "Continúo encontrando las expresiones para $L_{i2}$, $U_{2j}$, $L_{i3}$, $U_{3j}$, etc, que se sintetizan en:"
   ]
  },
  {
   "cell_type": "markdown",
   "metadata": {},
   "source": [
    "$$ U_{ij} = a_{ij} - \\sum_{k=0}^{i-1} L_{ik} \\cdot U_{kj} \\quad 0 \\leq i \\leq j \\leq n$$ \n",
    "\n",
    "$$L_{ij} = \\left[ a_{ij} - \\sum_{k=0}^{j-1} L_{ik} \\cdot U_{kj} \\right]  \\cdot \\frac{1}{U_{jj}} \\quad 0 \\leq j \\leq i \\leq n$$"
   ]
  },
  {
   "cell_type": "markdown",
   "metadata": {},
   "source": [
    "Hay que ir calculando los elementos secuencialmente, ya que por ejemplo: $L_{43}$ depende de $L_{40}$ a $L_{42}$ y de $U_{03}$ a $U_{33}$."
   ]
  },
  {
   "cell_type": "markdown",
   "metadata": {},
   "source": [
    "# Soluciones al sistema de ecuaciones"
   ]
  },
  {
   "cell_type": "markdown",
   "metadata": {},
   "source": [
    "Para cada vector ***b***, necesitamos hallar el vector solución ***x***. Para ello primero encontramos el vector ***y*** tal que $L \\cdot y = b$ para finalmente encontrar el vector ***x*** que cumple con $U \\cdot x = y$.\n",
    "\n",
    "Se puede despejar cada elemento de ***y*** como:\n",
    "\n",
    "$$ y_n = b_n - \\sum_{k=0}^{n-1} L_{nk} \\cdot y_k $$\n",
    "\n",
    "Mientras que cada elemento de ***x*** será:\n",
    "\n",
    "$$ x_n = \\left[ y_n - \\sum_{k=n}^{n_{max}} U_{nk} \\cdot x_k \\right] \\frac{1}{U_{nn}}$$"
   ]
  },
  {
   "cell_type": "markdown",
   "metadata": {},
   "source": [
    "# Algoritmo de resolución\n",
    "\n",
    "El algoritmo para resolver el problema consiste en la implementación del cálculo de los $U_{ij}$ y $L_{ij}$ para descomponer la matriz $A$, y luego para cada vector $b$, encontrar primero los elementos $y_n$ y finalmente los $x_n$."
   ]
  }
 ],
 "metadata": {
  "kernelspec": {
   "display_name": "Python 3",
   "language": "python",
   "name": "python3"
  },
  "language_info": {
   "codemirror_mode": {
    "name": "ipython",
    "version": 3
   },
   "file_extension": ".py",
   "mimetype": "text/x-python",
   "name": "python",
   "nbconvert_exporter": "python",
   "pygments_lexer": "ipython3",
   "version": "3.5.0"
  }
 },
 "nbformat": 4,
 "nbformat_minor": 0
}
